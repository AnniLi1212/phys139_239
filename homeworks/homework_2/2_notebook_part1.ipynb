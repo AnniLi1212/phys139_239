{
 "cells": [
  {
   "attachments": {},
   "cell_type": "markdown",
   "metadata": {},
   "source": [
    "# Problem 2, Parts A-B: Boosted Decision Tree\n",
    "\n",
    "In this Jupyter notebook, we will train a boosted decision tree on the MiniBooNE dataset.\n",
    "\n",
    "Use this notebook to write your code for problem 1 parts A-B by filling in the sections marked `# TODO` and running all cells."
   ]
  },
  {
   "cell_type": "code",
   "execution_count": null,
   "metadata": {},
   "outputs": [],
   "source": [
    "from sklearn.datasets import fetch_openml\n",
    "from sklearn.model_selection import train_test_split\n",
    "\n",
    "data = fetch_openml(\"miniboone\", parser=\"auto\", version=1)\n",
    "X, y = data[\"data\"].values, (data[\"target\"].values == \"True\").astype(float)\n",
    "X_train, X_test, y_train, y_test = train_test_split(X, y, test_size=0.2, random_state=42, shuffle=True)"
   ]
  },
  {
   "cell_type": "code",
   "execution_count": null,
   "metadata": {},
   "outputs": [],
   "source": [
    "from xgboost import XGBClassifier\n",
    "\n",
    "# ==============================================\n",
    "# TODO: Implement the BDT model instance\n",
    "# ==============================================\n",
    "bdt = XGBClassifier(...)\n",
    "\n",
    "# ==============================================\n",
    "# TODO: Fit the training data\n",
    "# ==============================================\n",
    "bdt.fit(...)\n",
    "\n",
    "# retrieve predictions and take index [:, 1] corresponding to signal\n",
    "preds_bdt = bdt.predict_proba(X_test)[:, 1]"
   ]
  },
  {
   "cell_type": "code",
   "execution_count": null,
   "metadata": {},
   "outputs": [],
   "source": [
    "from roc_helper import plot_roc\n",
    "\n",
    "plot_roc(y_test, preds_bdt)"
   ]
  },
  {
   "cell_type": "code",
   "execution_count": null,
   "metadata": {},
   "outputs": [],
   "source": [
    "import xgboost as xgb\n",
    "\n",
    "# ==============================================\n",
    "# TODO: Plot the importance of the top 10 using\n",
    "# xgb.plot_importance\n",
    "# =============================================="
   ]
  },
  {
   "cell_type": "code",
   "execution_count": null,
   "metadata": {},
   "outputs": [],
   "source": [
    "import numpy as np\n",
    "import matplotlib.pyplot as plt\n",
    "\n",
    "# ==============================================\n",
    "# TODO: Plot the most important feature\n",
    "# separately for signal and background\n",
    "# using the specified binning\n",
    "# =============================================="
   ]
  },
  {
   "cell_type": "code",
   "execution_count": null,
   "metadata": {},
   "outputs": [],
   "source": []
  }
 ],
 "metadata": {
  "kernelspec": {
   "display_name": "phys139",
   "language": "python",
   "name": "python3"
  },
  "language_info": {
   "codemirror_mode": {
    "name": "ipython",
    "version": 3
   },
   "file_extension": ".py",
   "mimetype": "text/x-python",
   "name": "python",
   "nbconvert_exporter": "python",
   "pygments_lexer": "ipython3",
   "version": "3.9.15"
  },
  "orig_nbformat": 4,
  "vscode": {
   "interpreter": {
    "hash": "d0ea348b636367bcdf67fd2d6d24251712b38670f61fdee14f28eb58fe74f081"
   }
  }
 },
 "nbformat": 4,
 "nbformat_minor": 2
}
