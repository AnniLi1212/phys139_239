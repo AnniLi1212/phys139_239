{
 "cells": [
  {
   "attachments": {},
   "cell_type": "markdown",
   "metadata": {},
   "source": [
    "# Problem 2, Parts C-E: Neural Network\n",
    "\n",
    "In this Jupyter notebook, we will train a neural network on the MiniBooNE dataset.\n",
    "\n",
    "Use this notebook to write your code for problem 1 parts C-E by filling in the sections marked `# TODO` and running all cells."
   ]
  },
  {
   "cell_type": "code",
   "execution_count": null,
   "metadata": {},
   "outputs": [],
   "source": [
    "from sklearn.datasets import fetch_openml\n",
    "from sklearn.model_selection import train_test_split\n",
    "\n",
    "data = fetch_openml(\"miniboone\", parser=\"auto\", version=1)\n",
    "X, y = data[\"data\"].values, (data[\"target\"].values == \"True\").astype(float)\n",
    "X_train, X_test, y_train, y_test = train_test_split(X, y, test_size=0.2, random_state=42, shuffle=True)"
   ]
  },
  {
   "cell_type": "code",
   "execution_count": null,
   "metadata": {},
   "outputs": [],
   "source": [
    "from tensorflow.keras.models import Model\n",
    "from tensorflow.keras.layers import Dense, Input\n",
    "\n",
    "# ==============================================\n",
    "# TODO: Implement the Keras model instance\n",
    "# as described in part C\n",
    "# ==============================================\n",
    "inputs = Input(shape=X_train.shape[1:])\n",
    "outputs = ...\n",
    "model = Model(inputs=inputs, outputs=outputs)\n",
    "\n",
    "# ==============================================\n",
    "# TODO: Compile the model with SGD and binary\n",
    "# crossentropy loss\n",
    "# ==============================================\n",
    "model.compile(...)\n",
    "\n",
    "# ==============================================\n",
    "# TODO: Fit the training data for 50 epochs\n",
    "# with a batch size of 128\n",
    "# ==============================================\n",
    "history = model.fit(...)\n",
    "\n",
    "# retrieve predictions\n",
    "preds_nn = model.predict(X_test)"
   ]
  },
  {
   "cell_type": "code",
   "execution_count": null,
   "metadata": {},
   "outputs": [],
   "source": [
    "from roc_helper import plot_roc\n",
    "\n",
    "plot_roc(y_test, preds_nn)"
   ]
  },
  {
   "cell_type": "code",
   "execution_count": null,
   "metadata": {},
   "outputs": [],
   "source": [
    "# ==============================================\n",
    "# TODO: Implement the Keras model instance\n",
    "# as described in part D\n",
    "# ==============================================\n",
    "inputs = Input(shape=X_train.shape[1:])\n",
    "outputs = ...\n",
    "model = Model(inputs=inputs, outputs=outputs)\n",
    "\n",
    "# ==============================================\n",
    "# TODO: Compile the model with SGD and binary\n",
    "# crossentropy loss\n",
    "# ==============================================\n",
    "model.compile(...)\n",
    "\n",
    "# ==============================================\n",
    "# TODO: Fit the training data for 50 epochs\n",
    "# with a batch size of 128\n",
    "# ==============================================\n",
    "history = model.fit(...)\n",
    "\n",
    "# retreieve predictions\n",
    "preds_nn = model.predict(X_test)"
   ]
  },
  {
   "cell_type": "code",
   "execution_count": null,
   "metadata": {},
   "outputs": [],
   "source": [
    "from sklearn.preprocessing import StandardScaler\n",
    "\n",
    "# ==============================================\n",
    "# TODO: Implement the scaler as described in\n",
    "# part E\n",
    "# ==============================================\n",
    "\n",
    "# ==============================================\n",
    "# TODO: Implement the Keras model instance\n",
    "# as described in part E\n",
    "# ==============================================\n",
    "inputs = Input(shape=X_train.shape[1:])\n",
    "outputs = ...\n",
    "model = Model(inputs=inputs, outputs=outputs)\n",
    "\n",
    "# ==============================================\n",
    "# TODO: Compile the model with Adam and binary\n",
    "# crossentropy loss\n",
    "# ==============================================\n",
    "model.compile(...)\n",
    "history = model.fit(...)\n",
    "\n",
    "preds_nn = model.predict(X_test)"
   ]
  },
  {
   "cell_type": "code",
   "execution_count": null,
   "metadata": {},
   "outputs": [],
   "source": [
    "plot_roc(y_test, preds_nn)"
   ]
  }
 ],
 "metadata": {
  "kernelspec": {
   "display_name": "phys139",
   "language": "python",
   "name": "python3"
  },
  "language_info": {
   "codemirror_mode": {
    "name": "ipython",
    "version": 3
   },
   "file_extension": ".py",
   "mimetype": "text/x-python",
   "name": "python",
   "nbconvert_exporter": "python",
   "pygments_lexer": "ipython3",
   "version": "3.9.15 | packaged by conda-forge | (main, Nov 22 2022, 08:55:37) \n[Clang 14.0.6 ]"
  },
  "orig_nbformat": 4,
  "vscode": {
   "interpreter": {
    "hash": "d0ea348b636367bcdf67fd2d6d24251712b38670f61fdee14f28eb58fe74f081"
   }
  }
 },
 "nbformat": 4,
 "nbformat_minor": 2
}
